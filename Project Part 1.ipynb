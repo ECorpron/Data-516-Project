{
 "cells": [
  {
   "cell_type": "code",
   "execution_count": 1,
   "id": "ba90a50d-68d4-4327-8dfd-c2a54a9f8158",
   "metadata": {},
   "outputs": [],
   "source": [
    "import pandas as pd"
   ]
  },
  {
   "cell_type": "code",
   "execution_count": 15,
   "id": "cc036b35-aebe-4dbb-ae3a-c15c666441e5",
   "metadata": {},
   "outputs": [
    {
     "name": "stdout",
     "output_type": "stream",
     "text": [
      "    Province_State   Admin2       UID iso2 iso3  code3    FIPS Country_Region  \\\n",
      "277       Colorado  El Paso  84008041   US  USA    840  8041.0             US   \n",
      "\n",
      "           Lat       Long_  ... 10/21/22  10/22/22  10/23/22  10/24/22  \\\n",
      "277  38.832401 -104.525141  ...     1805      1805      1805      1806   \n",
      "\n",
      "     10/25/22  10/26/22  10/27/22  10/28/22  10/29/22  10/30/22  \n",
      "277      1806      1806      1808      1808      1808      1808  \n",
      "\n",
      "[1 rows x 1025 columns]\n"
     ]
    }
   ],
   "source": [
    "raw_us_deaths = pd.read_csv(\"data/RAW_us_deaths.csv\")\n",
    "maskData = pd.read_csv(\"data/mask-use-by-county.csv\")\n",
    "maskMandateData = pd.read_csv(\"data/U.S._State_and_Territorial_Public_Mask_Mandates_From_April_10__2020_through_August_15__2021_by_County_by_Day.csv\")\n",
    "elPasoDeaths = raw_us_deaths[(raw_us_deaths[\"Province_State\"] == \"Colorado\") & (raw_us_deaths[\"Admin2\"] == \"El Paso\")]\n",
    "print(elPasoDeaths.head())"
   ]
  },
  {
   "cell_type": "code",
   "execution_count": 6,
   "id": "e7c36b6c-174e-4515-a383-6c87911a053c",
   "metadata": {},
   "outputs": [
    {
     "name": "stdout",
     "output_type": "stream",
     "text": [
      "    Province_State   Admin2       UID iso2 iso3  code3    FIPS Country_Region  \\\n",
      "277       Colorado  El Paso  84008041   US  USA    840  8041.0             US   \n",
      "\n",
      "           Lat       Long_           Combined_Key  Population  \n",
      "277  38.832401 -104.525141  El Paso, Colorado, US      720403  \n"
     ]
    }
   ],
   "source": [
    "colData = elPasoDeaths[elPasoDeaths.columns[0:12]]\n",
    "print(colData.head())"
   ]
  },
  {
   "cell_type": "code",
   "execution_count": 13,
   "id": "df2ab2c0-c83a-4330-8557-22cfd849ff7c",
   "metadata": {},
   "outputs": [
    {
     "name": "stdout",
     "output_type": "stream",
     "text": [
      "          date  deaths\n",
      "0      1/22/20       0\n",
      "1      1/23/20       0\n",
      "2      1/24/20       0\n",
      "3      1/25/20       0\n",
      "4      1/26/20       0\n",
      "...        ...     ...\n",
      "1008  10/26/22    1806\n",
      "1009  10/27/22    1808\n",
      "1010  10/28/22    1808\n",
      "1011  10/29/22    1808\n",
      "1012  10/30/22    1808\n",
      "\n",
      "[1013 rows x 2 columns]\n",
      "8041.0\n"
     ]
    }
   ],
   "source": [
    "pasoDeathsByDate = elPasoDeaths[elPasoDeaths.columns[12:]]\n",
    "pasoDeathsByDate = pd.DataFrame(pasoDeathsByDate.iloc[0])\n",
    "pasoDeathsByDate = pasoDeathsByDate.reset_index()\n",
    "pasoDeathsByDate.columns = [\"date\", \"deaths\"]\n",
    "print(pasoDeathsByDate)\n",
    "\n",
    "colFips = colData[\"FIPS\"].values[0]\n",
    "print(colFips)"
   ]
  },
  {
   "cell_type": "code",
   "execution_count": 19,
   "id": "1d87f6f8-73b5-4b24-a4d8-90f72210e5ac",
   "metadata": {},
   "outputs": [
    {
     "name": "stdout",
     "output_type": "stream",
     "text": [
      "     COUNTYFP  NEVER  RARELY  SOMETIMES  FREQUENTLY  ALWAYS\n",
      "265      8041  0.031   0.089      0.081       0.196   0.603\n",
      "      State_Tribe_Territory     County_Name  FIPS_State  FIPS_County  \\\n",
      "70454                    CO  El Paso County           8           41   \n",
      "70484                    CO  El Paso County           8           41   \n",
      "70485                    CO  El Paso County           8           41   \n",
      "70493                    CO  El Paso County           8           41   \n",
      "70494                    CO  El Paso County           8           41   \n",
      "\n",
      "            date  order_code Face_Masks_Required_in_Public Source_of_Action  \\\n",
      "70454  5/26/2020           2                           NaN              NaN   \n",
      "70484  5/27/2020           2                           NaN              NaN   \n",
      "70485  5/28/2020           2                           NaN              NaN   \n",
      "70493  4/10/2020           2                           NaN              NaN   \n",
      "70494  4/11/2020           2                           NaN              NaN   \n",
      "\n",
      "       URL Citation  \n",
      "70454  NaN      NaN  \n",
      "70484  NaN      NaN  \n",
      "70485  NaN      NaN  \n",
      "70493  NaN      NaN  \n",
      "70494  NaN      NaN  \n",
      "      State_Tribe_Territory     County_Name  FIPS_State  FIPS_County  \\\n",
      "70454                    CO  El Paso County           8           41   \n",
      "70484                    CO  El Paso County           8           41   \n",
      "70485                    CO  El Paso County           8           41   \n",
      "70493                    CO  El Paso County           8           41   \n",
      "70494                    CO  El Paso County           8           41   \n",
      "\n",
      "            date  order_code Face_Masks_Required_in_Public Source_of_Action  \\\n",
      "70454  5/26/2020           2                            No              NaN   \n",
      "70484  5/27/2020           2                            No              NaN   \n",
      "70485  5/28/2020           2                            No              NaN   \n",
      "70493  4/10/2020           2                            No              NaN   \n",
      "70494  4/11/2020           2                            No              NaN   \n",
      "\n",
      "       URL Citation  \n",
      "70454  NaN      NaN  \n",
      "70484  NaN      NaN  \n",
      "70485  NaN      NaN  \n",
      "70493  NaN      NaN  \n",
      "70494  NaN      NaN  \n"
     ]
    },
    {
     "name": "stderr",
     "output_type": "stream",
     "text": [
      "C:\\Users\\ecorp\\AppData\\Local\\Temp\\ipykernel_24504\\3460426010.py:6: SettingWithCopyWarning: \n",
      "A value is trying to be set on a copy of a slice from a DataFrame.\n",
      "Try using .loc[row_indexer,col_indexer] = value instead\n",
      "\n",
      "See the caveats in the documentation: https://pandas.pydata.org/pandas-docs/stable/user_guide/indexing.html#returning-a-view-versus-a-copy\n",
      "  elPasoMaskMandates[\"Face_Masks_Required_in_Public\"] = elPasoMaskMandates[\"Face_Masks_Required_in_Public\"].fillna(\"No\")\n"
     ]
    }
   ],
   "source": [
    "elPasoMaskUse = maskData[maskData[\"COUNTYFP\"] == colFips]\n",
    "print(elPasoMaskUse.head())\n",
    "\n",
    "elPasoMaskMandates = maskMandateData[(maskMandateData[\"State_Tribe_Territory\"] == \"CO\") & (maskMandateData['County_Name'] == 'El Paso County')]\n",
    "print(elPasoMaskMandates.head())\n",
    "elPasoMaskMandates[\"Face_Masks_Required_in_Public\"] = elPasoMaskMandates[\"Face_Masks_Required_in_Public\"].fillna(\"No\")\n",
    "print(elPasoMaskMandates.head())"
   ]
  },
  {
   "cell_type": "code",
   "execution_count": null,
   "id": "06381975-42e0-4134-b869-4b31260e5f63",
   "metadata": {},
   "outputs": [],
   "source": []
  }
 ],
 "metadata": {
  "kernelspec": {
   "display_name": "Python 3 (ipykernel)",
   "language": "python",
   "name": "python3"
  },
  "language_info": {
   "codemirror_mode": {
    "name": "ipython",
    "version": 3
   },
   "file_extension": ".py",
   "mimetype": "text/x-python",
   "name": "python",
   "nbconvert_exporter": "python",
   "pygments_lexer": "ipython3",
   "version": "3.10.3"
  }
 },
 "nbformat": 4,
 "nbformat_minor": 5
}
