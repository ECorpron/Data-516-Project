{
 "cells": [
  {
   "cell_type": "code",
   "execution_count": 1,
   "id": "5368eef1-c387-478a-9dd0-7a25ec5dbf4d",
   "metadata": {},
   "outputs": [],
   "source": [
    "import pandas as pd\n",
    "import numpy as np\n",
    "\n",
    "from matplotlib import pyplot as plt"
   ]
  },
  {
   "cell_type": "code",
   "execution_count": 2,
   "id": "93318b41-8af0-4242-84e9-9d1a457d193d",
   "metadata": {},
   "outputs": [
    {
     "name": "stdout",
     "output_type": "stream",
     "text": [
      "Sample of the Crime Data:\n",
      "           date  numberOfOffenses\n",
      "0  Jan 1,  2020               264\n",
      "1  Jan 2,  2020               106\n",
      "2  Jan 3,  2020               113\n",
      "3  Jan 4,  2020               117\n",
      "4  Jan 5,  2020                96\n",
      "Sample of the Covid Data:\n",
      "           date  deaths  Deaths_A_Day Face_Masks_Required_in_Public\n",
      "567  2021-08-11     938             1                            No\n",
      "568  2021-08-12     939             1                            No\n",
      "569  2021-08-13     943             4                            No\n",
      "570  2021-08-14     943             0                            No\n",
      "571  2021-08-15     945             2                            No\n"
     ]
    }
   ],
   "source": [
    "# Get the data\n",
    "elPasoData = pd.read_csv('data/cleanedElPasoData.csv', index_col = 0)\n",
    "crimeData = pd.read_csv('data/edited El Paso Crimes By Day for 2020 and 2021.csv', thousands=\",\")\n",
    "\n",
    "# Rename column to accurately reflect what it measures\n",
    "crimeData.rename(columns={\"Number of Incidents\": \"numberOfOffenses\"}, inplace = True)\n",
    "\n",
    "print(\"Sample of the Crime Data:\")\n",
    "print(crimeData.head())\n",
    "\n",
    "print(\"Sample of the Covid Data:\")\n",
    "print(elPasoData[[\"date\", \"deaths\", \"Deaths_A_Day\", \"Face_Masks_Required_in_Public\"]].tail())"
   ]
  },
  {
   "cell_type": "code",
   "execution_count": 3,
   "id": "252e437d-c628-4132-8aee-1826e8406ac9",
   "metadata": {},
   "outputs": [
    {
     "name": "stdout",
     "output_type": "stream",
     "text": [
      "Any NA values in the date column? False\n",
      "Any NA values in the Number of Offenses column? False\n",
      "          date  numberOfOffenses\n",
      "567 2021-08-11                85\n",
      "568 2021-08-12                78\n",
      "569 2021-08-13                88\n",
      "570 2021-08-14                89\n",
      "571 2021-08-15                97\n"
     ]
    }
   ],
   "source": [
    "# Convert the date to date time\n",
    "adjustedCrimeData = crimeData\n",
    "adjustedCrimeData[\"date\"] = pd.to_datetime(crimeData[\"date\"])\n",
    "\n",
    "# Restrict crime data to the dates we have covid data for.\n",
    "startDate = pd.to_datetime(elPasoData.loc[0, 'date'])\n",
    "endDate = pd.to_datetime(elPasoData.loc[len(elPasoData)-1, 'date'])\n",
    "adjustedCrimeData = adjustedCrimeData[(adjustedCrimeData.date >= startDate)]\n",
    "adjustedCrimeData = adjustedCrimeData[(adjustedCrimeData.date <= endDate)]\n",
    "adjustedCrimeData.reset_index(drop = True, inplace = True)\n",
    "\n",
    "# Make sure that there is no unexpected data.\n",
    "print(\"Any NA values in the date column? \" + str(adjustedCrimeData['date'].isnull().values.any()))\n",
    "print(\"Any NA values in the Number of Offenses column? \" + str(adjustedCrimeData['numberOfOffenses'].isnull().values.any()))\n",
    "\n",
    "# There is one extra column that summarizes the entire month, remove it.\n",
    "adjustedCrimeData.drop(adjustedCrimeData.tail(1).index,inplace=True)\n",
    "print(adjustedCrimeData.tail())"
   ]
  },
  {
   "cell_type": "code",
   "execution_count": 4,
   "id": "307bc366-48bc-4323-a21b-8f006018f212",
   "metadata": {},
   "outputs": [
    {
     "name": "stdout",
     "output_type": "stream",
     "text": [
      "Any NA values in the maskMandate column? False\n",
      "        date  numberOfOffenses  covidDeaths  totalCovidDeaths maskMandate\n",
      "0 2020-01-22               106            0                 0          No\n",
      "1 2020-01-23                80            0                 0          No\n",
      "2 2020-01-24               105            0                 0          No\n",
      "3 2020-01-25                89            0                 0          No\n",
      "4 2020-01-26                90            0                 0          No\n"
     ]
    },
    {
     "name": "stderr",
     "output_type": "stream",
     "text": [
      "C:\\Users\\ecorp\\AppData\\Local\\Temp\\ipykernel_19864\\2923312448.py:15: SettingWithCopyWarning: \n",
      "A value is trying to be set on a copy of a slice from a DataFrame\n",
      "\n",
      "See the caveats in the documentation: https://pandas.pydata.org/pandas-docs/stable/user_guide/indexing.html#returning-a-view-versus-a-copy\n",
      "  adjustedCrimeData[\"maskMandate\"][i] = elPasoData[\"Face_Masks_Required_in_Public\"][i]\n",
      "C:\\Users\\ecorp\\AppData\\Local\\Temp\\ipykernel_19864\\2923312448.py:16: SettingWithCopyWarning: \n",
      "A value is trying to be set on a copy of a slice from a DataFrame\n",
      "\n",
      "See the caveats in the documentation: https://pandas.pydata.org/pandas-docs/stable/user_guide/indexing.html#returning-a-view-versus-a-copy\n",
      "  adjustedCrimeData[\"covidDeaths\"][i] = elPasoData[\"Deaths_A_Day\"][i]\n",
      "C:\\Users\\ecorp\\AppData\\Local\\Temp\\ipykernel_19864\\2923312448.py:17: SettingWithCopyWarning: \n",
      "A value is trying to be set on a copy of a slice from a DataFrame\n",
      "\n",
      "See the caveats in the documentation: https://pandas.pydata.org/pandas-docs/stable/user_guide/indexing.html#returning-a-view-versus-a-copy\n",
      "  adjustedCrimeData[\"totalCovidDeaths\"][i] = elPasoData[\"deaths\"][i]\n"
     ]
    }
   ],
   "source": [
    "# Convert to datetime.\n",
    "elPasoData[\"date\"] = pd.to_datetime(elPasoData[\"date\"])\n",
    "\n",
    "# Create new columns\n",
    "adjustedCrimeData[\"covidDeaths\"] = 0\n",
    "adjustedCrimeData[\"totalCovidDeaths\"] = 0\n",
    "adjustedCrimeData[\"maskMandate\"] = None\n",
    "\n",
    "# Since both data frames are sorted on date, pull information in elPaso data into adjusted crimeData on date.\n",
    "for i in range(len(adjustedCrimeData)):\n",
    "    crimeDate = adjustedCrimeData[\"date\"][i]\n",
    "    pasoDate = elPasoData[\"date\"][i]\n",
    "    \n",
    "    if crimeDate == pasoDate:\n",
    "        adjustedCrimeData[\"maskMandate\"][i] = elPasoData[\"Face_Masks_Required_in_Public\"][i]\n",
    "        adjustedCrimeData[\"covidDeaths\"][i] = elPasoData[\"Deaths_A_Day\"][i]\n",
    "        adjustedCrimeData[\"totalCovidDeaths\"][i] = elPasoData[\"deaths\"][i]\n",
    "\n",
    "# Check that the data was succesfully moved over\n",
    "print(\"Any NA values in the maskMandate column? \" + str(adjustedCrimeData['maskMandate'].isnull().values.any()))\n",
    "print(adjustedCrimeData.head())\n",
    "\n",
    "# Save file to intermediary file to be used for model and figure generation\n",
    "adjustedCrimeData.to_csv('data/ElPasoCovidAndCrimeData.csv')"
   ]
  }
 ],
 "metadata": {
  "kernelspec": {
   "display_name": "Python 3 (ipykernel)",
   "language": "python",
   "name": "python3"
  },
  "language_info": {
   "codemirror_mode": {
    "name": "ipython",
    "version": 3
   },
   "file_extension": ".py",
   "mimetype": "text/x-python",
   "name": "python",
   "nbconvert_exporter": "python",
   "pygments_lexer": "ipython3",
   "version": "3.11.0"
  }
 },
 "nbformat": 4,
 "nbformat_minor": 5
}
